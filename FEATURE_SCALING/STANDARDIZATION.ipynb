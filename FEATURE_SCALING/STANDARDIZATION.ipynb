{
 "cells": [
  {
   "cell_type": "code",
   "execution_count": 14,
   "source": [
    "import pandas as pd\r\n",
    "import numpy as np\r\n",
    "import matplotlib.pyplot as plt\r\n",
    "import seaborn as sns"
   ],
   "outputs": [],
   "metadata": {}
  },
  {
   "cell_type": "code",
   "execution_count": 15,
   "source": [
    "df=pd.read_csv(\"Social_Network_Ads.csv\", usecols=[\"Age\", \"EstimatedSalary\",\"Purchased\"])\r\n",
    "df.sample(5)"
   ],
   "outputs": [
    {
     "output_type": "execute_result",
     "data": {
      "text/html": [
       "<div>\n",
       "<style scoped>\n",
       "    .dataframe tbody tr th:only-of-type {\n",
       "        vertical-align: middle;\n",
       "    }\n",
       "\n",
       "    .dataframe tbody tr th {\n",
       "        vertical-align: top;\n",
       "    }\n",
       "\n",
       "    .dataframe thead th {\n",
       "        text-align: right;\n",
       "    }\n",
       "</style>\n",
       "<table border=\"1\" class=\"dataframe\">\n",
       "  <thead>\n",
       "    <tr style=\"text-align: right;\">\n",
       "      <th></th>\n",
       "      <th>Age</th>\n",
       "      <th>EstimatedSalary</th>\n",
       "      <th>Purchased</th>\n",
       "    </tr>\n",
       "  </thead>\n",
       "  <tbody>\n",
       "    <tr>\n",
       "      <th>357</th>\n",
       "      <td>41</td>\n",
       "      <td>72000</td>\n",
       "      <td>0</td>\n",
       "    </tr>\n",
       "    <tr>\n",
       "      <th>76</th>\n",
       "      <td>18</td>\n",
       "      <td>52000</td>\n",
       "      <td>0</td>\n",
       "    </tr>\n",
       "    <tr>\n",
       "      <th>40</th>\n",
       "      <td>27</td>\n",
       "      <td>17000</td>\n",
       "      <td>0</td>\n",
       "    </tr>\n",
       "    <tr>\n",
       "      <th>255</th>\n",
       "      <td>52</td>\n",
       "      <td>90000</td>\n",
       "      <td>1</td>\n",
       "    </tr>\n",
       "    <tr>\n",
       "      <th>133</th>\n",
       "      <td>21</td>\n",
       "      <td>68000</td>\n",
       "      <td>0</td>\n",
       "    </tr>\n",
       "  </tbody>\n",
       "</table>\n",
       "</div>"
      ],
      "text/plain": [
       "     Age  EstimatedSalary  Purchased\n",
       "357   41            72000          0\n",
       "76    18            52000          0\n",
       "40    27            17000          0\n",
       "255   52            90000          1\n",
       "133   21            68000          0"
      ]
     },
     "metadata": {},
     "execution_count": 15
    }
   ],
   "metadata": {}
  },
  {
   "cell_type": "code",
   "execution_count": 47,
   "source": [
    "from sklearn.model_selection import train_test_split\r\n",
    "X_train,X_test,y_train,y_test=train_test_split(df.drop(\"Purchased\",axis=1), df[\"Purchased\"], test_size=0.3, random_state=2)\r\n",
    "print(X_train.shape)\r\n",
    "print(X_test.shape)"
   ],
   "outputs": [
    {
     "output_type": "stream",
     "name": "stdout",
     "text": [
      "(280, 2)\n",
      "(120, 2)\n"
     ]
    }
   ],
   "metadata": {}
  },
  {
   "cell_type": "markdown",
   "source": [
    "StandardScaler\r\n",
    "Xi_dash= (Xi-Xbar)/std"
   ],
   "metadata": {}
  },
  {
   "cell_type": "code",
   "execution_count": 48,
   "source": [
    "from sklearn.preprocessing import StandardScaler\r\n",
    "scaler=StandardScaler()\r\n",
    "scaler.fit(X_train)\r\n",
    "X_train_scaled=scaler.transform(X_train)\r\n",
    "X_test_scaled=scaler.transform(X_test)"
   ],
   "outputs": [],
   "metadata": {}
  },
  {
   "cell_type": "code",
   "execution_count": 49,
   "source": [
    "print(X_train_scaled)"
   ],
   "outputs": [
    {
     "output_type": "stream",
     "name": "stdout",
     "text": [
      "[[ 0.02273414 -0.26389006]\n",
      " [ 0.79431698 -1.42026223]\n",
      " [-0.26660943 -0.38249233]\n",
      " [ 0.89076483  1.2779395 ]\n",
      " [ 0.3120777  -0.20458892]\n",
      " [-0.26660943 -0.59004631]\n",
      " [-0.26660943 -1.42026223]\n",
      " [ 1.46945196 -1.06445541]\n",
      " [-0.07371372  0.12156733]\n",
      " [-0.84529656 -0.67899802]\n",
      " [-0.07371372  0.00296506]\n",
      " [-0.26660943  0.09191676]\n",
      " [ 0.21562985 -0.3231912 ]\n",
      " [-0.26660943  0.26982017]\n",
      " [ 0.11918199  0.03261563]\n",
      " [ 1.95169124  2.19710712]\n",
      " [-1.03819227 -1.47956337]\n",
      " [ 0.3120777   0.29947074]\n",
      " [ 2.04813909 -1.21270825]\n",
      " [-1.13464012 -0.53074518]\n",
      " [ 0.21562985  0.1512179 ]\n",
      " [-0.26660943 -0.94585313]\n",
      " [-0.65240085  0.03261563]\n",
      " [ 0.21562985  0.06226619]\n",
      " [ 0.40852556 -0.14528779]\n",
      " [-1.13464012 -1.12375655]\n",
      " [-0.07371372  2.25640826]\n",
      " [ 1.08366054 -0.14528779]\n",
      " [ 0.89076483  1.04073495]\n",
      " [-0.07371372  0.26982017]\n",
      " [-0.55595299 -1.5388645 ]\n",
      " [-1.13464012 -1.03480484]\n",
      " [-0.7488487   1.36689121]\n",
      " [ 1.08366054  0.56632586]\n",
      " [ 1.56589982 -1.30165996]\n",
      " [ 0.69786912 -1.42026223]\n",
      " [-0.65240085 -1.06445541]\n",
      " [ 1.1801084   0.53667529]\n",
      " [-0.26660943 -1.47956337]\n",
      " [-1.6168794   0.53667529]\n",
      " [-1.03819227 -1.15340711]\n",
      " [-0.07371372  0.03261563]\n",
      " [ 0.3120777   0.06226619]\n",
      " [ 0.89076483 -1.39061166]\n",
      " [-1.03819227 -0.35284176]\n",
      " [-1.80977511  0.18086847]\n",
      " [-1.80977511 -1.4499128 ]\n",
      " [ 0.69786912  1.81164973]\n",
      " [-0.07371372  0.29947074]\n",
      " [-1.6168794   0.06226619]\n",
      " [-0.65240085  1.42619234]\n",
      " [-0.26660943 -0.26389006]\n",
      " [-0.36305728  1.33724064]\n",
      " [ 0.50497341  1.24828893]\n",
      " [-0.65240085  0.18086847]\n",
      " [-1.52043154 -0.44179347]\n",
      " [-1.03819227  0.41807302]\n",
      " [ 0.79431698  0.26982017]\n",
      " [ 1.95169124 -0.94585313]\n",
      " [ 0.79431698 -0.3231912 ]\n",
      " [ 0.21562985  0.2401696 ]\n",
      " [-1.71332725 -0.61969688]\n",
      " [-0.26660943  0.1512179 ]\n",
      " [-1.32753583 -1.27200939]\n",
      " [-0.26660943 -0.44179347]\n",
      " [ 0.11918199  0.09191676]\n",
      " [-0.94174441  0.44772358]\n",
      " [ 2.04813909  0.38842245]\n",
      " [-1.90622296  0.35877188]\n",
      " [ 2.04813909 -0.82725086]\n",
      " [ 2.14458695  1.12968666]\n",
      " [ 0.79431698 -1.24235882]\n",
      " [ 0.40852556 -0.47144404]\n",
      " [ 0.02273414 -0.26389006]\n",
      " [ 1.46945196  0.35877188]\n",
      " [-0.17016157 -0.59004631]\n",
      " [ 0.21562985 -0.26389006]\n",
      " [-0.45950514  2.34535997]\n",
      " [ 0.11918199  0.21051904]\n",
      " [ 0.21562985 -0.67899802]\n",
      " [ 0.98721269 -1.09410598]\n",
      " [-0.17016157  0.1512179 ]\n",
      " [-0.07371372  0.29947074]\n",
      " [ 0.40852556 -0.50109461]\n",
      " [-0.36305728 -1.33131052]\n",
      " [ 0.89076483 -0.79760029]\n",
      " [-0.94174441  0.41807302]\n",
      " [-0.07371372 -0.44179347]\n",
      " [-0.94174441 -0.44179347]\n",
      " [-1.80977511  0.44772358]\n",
      " [-0.84529656 -1.24235882]\n",
      " [-0.94174441 -0.3231912 ]\n",
      " [ 0.98721269  0.77387984]\n",
      " [-1.6168794  -0.05633608]\n",
      " [-1.03819227 -0.35284176]\n",
      " [ 0.02273414 -0.56039574]\n",
      " [-0.65240085 -0.35284176]\n",
      " [-1.13464012 -1.56851507]\n",
      " [ 1.95169124 -1.39061166]\n",
      " [-0.65240085 -1.62781621]\n",
      " [ 0.21562985 -0.38249233]\n",
      " [ 0.89076483  2.19710712]\n",
      " [ 1.1801084  -1.00515427]\n",
      " [-0.17016157 -0.53074518]\n",
      " [ 1.66234767  1.78199917]\n",
      " [ 1.08366054 -1.24235882]\n",
      " [ 0.02273414  1.2779395 ]\n",
      " [-0.45950514 -0.29354063]\n",
      " [ 1.66234767 -0.91620257]\n",
      " [ 0.3120777   0.50702472]\n",
      " [-1.03819227 -1.56851507]\n",
      " [ 1.56589982  1.12968666]\n",
      " [-1.52043154  0.32912131]\n",
      " [ 0.02273414 -0.14528779]\n",
      " [ 0.11918199 -0.82725086]\n",
      " [ 0.21562985  1.10003609]\n",
      " [ 0.40852556 -0.17493835]\n",
      " [-0.45950514 -0.02668551]\n",
      " [ 1.08366054  2.10815542]\n",
      " [-0.26660943 -0.14528779]\n",
      " [-0.7488487  -0.61969688]\n",
      " [ 1.1801084  -1.47956337]\n",
      " [-1.42398369 -1.47956337]\n",
      " [ 1.85524338 -0.29354063]\n",
      " [ 1.85524338  0.12156733]\n",
      " [ 0.40852556  0.1512179 ]\n",
      " [ 1.27655625 -1.39061166]\n",
      " [-0.45950514 -1.24235882]\n",
      " [-0.7488487   1.93025201]\n",
      " [-0.26660943  1.12968666]\n",
      " [ 0.02273414 -0.59004631]\n",
      " [ 0.21562985 -0.14528779]\n",
      " [-0.55595299  1.93025201]\n",
      " [-0.94174441  0.26982017]\n",
      " [-1.90622296  0.47737415]\n",
      " [-1.32753583  0.56632586]\n",
      " [ 0.21562985  0.1512179 ]\n",
      " [ 1.37300411 -1.4499128 ]\n",
      " [-0.07371372  0.68492813]\n",
      " [ 0.11918199  1.90060144]\n",
      " [-1.71332725 -1.00515427]\n",
      " [ 0.21562985 -0.38249233]\n",
      " [-1.80977511 -1.33131052]\n",
      " [ 0.79431698  0.53667529]\n",
      " [-0.17016157  1.42619234]\n",
      " [-1.03819227  0.56632586]\n",
      " [-1.23108798 -1.09410598]\n",
      " [ 1.37300411  2.01920371]\n",
      " [ 0.79431698 -1.12375655]\n",
      " [ 0.79431698  0.12156733]\n",
      " [-1.80977511 -1.30165996]\n",
      " [ 0.02273414  1.24828893]\n",
      " [ 0.89076483 -0.61969688]\n",
      " [ 2.14458695  0.38842245]\n",
      " [ 2.14458695 -0.82725086]\n",
      " [ 0.98721269 -1.09410598]\n",
      " [ 0.11918199  1.54479462]\n",
      " [-0.94174441  0.50702472]\n",
      " [-1.23108798  0.26982017]\n",
      " [ 0.40852556  0.59597643]\n",
      " [ 0.11918199  0.1512179 ]\n",
      " [ 0.21562985  0.03261563]\n",
      " [ 2.04813909  2.16745656]\n",
      " [-0.07371372 -0.38249233]\n",
      " [-0.26660943  0.80353041]\n",
      " [-1.42398369 -0.20458892]\n",
      " [ 1.08366054  0.12156733]\n",
      " [ 0.3120777   0.06226619]\n",
      " [ 0.11918199  0.03261563]\n",
      " [ 0.98721269 -1.03480484]\n",
      " [-0.55595299  1.48549348]\n",
      " [-1.13464012 -1.62781621]\n",
      " [ 1.27655625  2.25640826]\n",
      " [-1.42398369 -0.11563722]\n",
      " [-1.80977511 -1.50921394]\n",
      " [ 0.89076483 -1.18305768]\n",
      " [ 2.14458695 -0.70864859]\n",
      " [ 0.60142127 -0.91620257]\n",
      " [-1.23108798 -1.42026223]\n",
      " [-0.45950514 -0.85690143]\n",
      " [-0.84529656 -0.26389006]\n",
      " [ 1.46945196  2.16745656]\n",
      " [ 0.40852556  1.01108439]\n",
      " [ 0.02273414 -0.44179347]\n",
      " [-1.13464012 -1.18305768]\n",
      " [-0.7488487   0.56632586]\n",
      " [ 0.11918199  1.07038552]\n",
      " [-0.55595299  1.39654178]\n",
      " [ 0.11918199  1.90060144]\n",
      " [ 0.21562985  2.13780599]\n",
      " [ 1.46945196  1.01108439]\n",
      " [-1.71332725  0.12156733]\n",
      " [-0.26660943 -0.50109461]\n",
      " [ 0.11918199  0.77387984]\n",
      " [ 0.89076483 -1.33131052]\n",
      " [-0.26660943 -0.29354063]\n",
      " [ 2.14458695 -1.06445541]\n",
      " [ 0.40852556  0.29947074]\n",
      " [-0.17016157  1.63374632]\n",
      " [ 0.79431698 -0.85690143]\n",
      " [-0.94174441  1.57444519]\n",
      " [ 0.11918199 -0.26389006]\n",
      " [-1.23108798  0.50702472]\n",
      " [ 0.11918199 -0.82725086]\n",
      " [ 1.08366054 -1.00515427]\n",
      " [ 0.98721269  1.81164973]\n",
      " [-1.42398369 -0.64934745]\n",
      " [ 0.98721269 -1.21270825]\n",
      " [-1.32753583 -0.44179347]\n",
      " [ 0.3120777   0.06226619]\n",
      " [-0.26660943 -0.59004631]\n",
      " [-0.7488487   1.10003609]\n",
      " [ 1.56589982  1.01108439]\n",
      " [-1.03819227  0.59597643]\n",
      " [ 0.40852556  0.09191676]\n",
      " [-0.94174441 -0.3231912 ]\n",
      " [ 1.1801084  -0.76794972]\n",
      " [-1.90622296 -0.53074518]\n",
      " [ 1.08366054 -1.24235882]\n",
      " [ 0.3120777   0.26982017]\n",
      " [-0.7488487  -1.62781621]\n",
      " [-0.26660943 -1.33131052]\n",
      " [-0.26660943  0.53667529]\n",
      " [ 0.98721269  1.90060144]\n",
      " [-0.65240085 -0.11563722]\n",
      " [-0.45950514  1.2779395 ]\n",
      " [ 0.3120777  -0.53074518]\n",
      " [ 1.85524338  1.54479462]\n",
      " [ 1.08366054  0.47737415]\n",
      " [ 2.04813909  0.18086847]\n",
      " [-1.71332725  0.35877188]\n",
      " [-0.17016157 -0.20458892]\n",
      " [-0.65240085  0.56632586]\n",
      " [ 1.37300411  1.30759007]\n",
      " [ 1.08366054 -0.91620257]\n",
      " [ 1.85524338 -1.09410598]\n",
      " [-0.7488487   0.50702472]\n",
      " [-1.32753583 -1.12375655]\n",
      " [ 0.79431698  0.35877188]\n",
      " [-0.84529656  0.38842245]\n",
      " [-0.7488487   0.29947074]\n",
      " [-1.03819227  1.98955314]\n",
      " [-0.07371372  0.06226619]\n",
      " [ 1.37300411  2.37501053]\n",
      " [-0.07371372  0.1512179 ]\n",
      " [-0.07371372  1.98955314]\n",
      " [-0.7488487   0.26982017]\n",
      " [-1.13464012  0.32912131]\n",
      " [ 0.3120777  -0.29354063]\n",
      " [ 0.98721269 -1.18305768]\n",
      " [ 1.37300411  0.59597643]\n",
      " [-1.52043154 -1.5388645 ]\n",
      " [-0.94174441 -0.76794972]\n",
      " [-1.13464012  0.06226619]\n",
      " [ 0.40852556 -0.47144404]\n",
      " [-1.90622296 -0.76794972]\n",
      " [ 0.40852556  0.26982017]\n",
      " [-0.26660943  0.21051904]\n",
      " [-0.55595299  0.47737415]\n",
      " [-0.36305728 -0.79760029]\n",
      " [-0.26660943  0.03261563]\n",
      " [-0.07371372  0.21051904]\n",
      " [-0.26660943  0.1512179 ]\n",
      " [ 0.3120777  -0.56039574]\n",
      " [ 0.79431698  0.77387984]\n",
      " [ 0.98721269  2.01920371]\n",
      " [-0.17016157 -0.29354063]\n",
      " [-1.03819227 -0.47144404]\n",
      " [-0.26660943 -0.35284176]\n",
      " [ 0.11918199 -0.3231912 ]\n",
      " [-0.26660943 -0.76794972]\n",
      " [-0.07371372 -1.09410598]\n",
      " [-0.26660943  0.06226619]\n",
      " [ 0.50497341  1.7523486 ]\n",
      " [-0.36305728  1.24828893]\n",
      " [ 0.79431698  1.39654178]\n",
      " [ 0.98721269 -0.85690143]\n",
      " [-1.71332725 -1.39061166]\n",
      " [-0.84529656  0.29947074]\n",
      " [-0.84529656  2.3157094 ]]\n"
     ]
    }
   ],
   "metadata": {}
  },
  {
   "cell_type": "code",
   "execution_count": 50,
   "source": [
    "print(X_test_scaled)"
   ],
   "outputs": [
    {
     "output_type": "stream",
     "name": "stdout",
     "text": [
      "[[-0.84529656  0.38842245]\n",
      " [-1.6168794  -1.59816564]\n",
      " [-0.07371372 -0.50109461]\n",
      " [-0.84529656  0.1512179 ]\n",
      " [ 1.56589982  0.00296506]\n",
      " [ 0.89076483 -1.47956337]\n",
      " [-1.42398369  0.35877188]\n",
      " [-0.94174441 -1.12375655]\n",
      " [ 0.21562985 -0.29354063]\n",
      " [-0.17016157  1.66339689]\n",
      " [-1.32753583 -1.39061166]\n",
      " [-1.52043154 -1.27200939]\n",
      " [-0.55595299  1.39654178]\n",
      " [ 0.69786912  0.26982017]\n",
      " [-0.26660943 -0.3231912 ]\n",
      " [-0.45950514 -0.79760029]\n",
      " [-1.80977511  0.00296506]\n",
      " [ 2.14458695 -0.82725086]\n",
      " [ 1.46945196  0.06226619]\n",
      " [-1.13464012 -0.79760029]\n",
      " [-0.07371372  0.2401696 ]\n",
      " [ 0.69786912 -0.73829916]\n",
      " [-0.7488487  -0.23423949]\n",
      " [-0.17016157 -1.09410598]\n",
      " [-1.23108798  0.29947074]\n",
      " [ 0.69786912 -1.12375655]\n",
      " [ 0.69786912 -1.42026223]\n",
      " [ 0.21562985 -0.38249233]\n",
      " [ 0.60142127  2.04885428]\n",
      " [-0.55595299  0.89248211]\n",
      " [-1.32753583 -0.44179347]\n",
      " [ 0.3120777  -0.53074518]\n",
      " [ 0.79431698 -1.39061166]\n",
      " [ 0.02273414 -0.3231912 ]\n",
      " [-0.55595299  2.37501053]\n",
      " [-0.26660943  0.62562699]\n",
      " [ 0.98721269  0.12156733]\n",
      " [-0.26660943 -1.39061166]\n",
      " [-0.84529656 -0.79760029]\n",
      " [ 0.89076483  1.10003609]\n",
      " [-0.26660943 -0.91620257]\n",
      " [ 0.40852556 -0.14528779]\n",
      " [-1.03819227  0.53667529]\n",
      " [ 0.40852556  0.29947074]\n",
      " [-1.90622296 -0.05633608]\n",
      " [ 0.89076483 -0.56039574]\n",
      " [-1.32753583  0.41807302]\n",
      " [ 0.89076483 -1.06445541]\n",
      " [ 0.98721269  1.45584291]\n",
      " [-1.13464012 -1.62781621]\n",
      " [-1.03819227  0.77387984]\n",
      " [ 0.40852556  2.34535997]\n",
      " [-0.36305728  0.06226619]\n",
      " [ 0.11918199  0.26982017]\n",
      " [-1.13464012  1.42619234]\n",
      " [-1.52043154 -0.20458892]\n",
      " [ 0.3120777  -1.18305768]\n",
      " [ 0.40852556  1.12968666]\n",
      " [ 0.50497341  1.87095087]\n",
      " [-0.65240085  0.12156733]\n",
      " [-1.13464012  0.41807302]\n",
      " [ 2.04813909  1.78199917]\n",
      " [ 1.95169124  0.74422927]\n",
      " [ 0.3120777   0.03261563]\n",
      " [-1.23108798  0.59597643]\n",
      " [-0.26660943  2.28605883]\n",
      " [ 0.69786912 -1.30165996]\n",
      " [-0.17016157 -0.47144404]\n",
      " [-0.65240085 -0.05633608]\n",
      " [ 1.85524338 -1.30165996]\n",
      " [-0.07371372 -0.23423949]\n",
      " [ 1.95169124  0.92213268]\n",
      " [-0.45950514 -0.56039574]\n",
      " [-0.84529656 -0.79760029]\n",
      " [ 1.75879553  1.87095087]\n",
      " [-0.26660943  0.06226619]\n",
      " [ 2.14458695  0.95178325]\n",
      " [-1.32753583 -0.35284176]\n",
      " [ 1.66234767  1.63374632]\n",
      " [-1.71332725  0.35877188]\n",
      " [ 0.89076483 -0.67899802]\n",
      " [-0.17016157  0.86283154]\n",
      " [-1.03819227 -0.38249233]\n",
      " [ 0.98721269  0.59597643]\n",
      " [-0.94174441  0.56632586]\n",
      " [ 0.40852556  0.00296506]\n",
      " [ 0.98721269  2.10815542]\n",
      " [ 0.3120777  -0.3231912 ]\n",
      " [ 1.75879553 -0.29354063]\n",
      " [-0.17016157  2.19710712]\n",
      " [ 1.75879553  1.01108439]\n",
      " [-1.32753583 -1.50921394]\n",
      " [ 2.04813909  0.53667529]\n",
      " [ 1.27655625  1.90060144]\n",
      " [-1.13464012  0.29947074]\n",
      " [-0.36305728 -0.79760029]\n",
      " [-1.71332725  0.47737415]\n",
      " [-0.55595299 -1.5388645 ]\n",
      " [ 0.3120777  -0.73829916]\n",
      " [ 0.02273414 -0.59004631]\n",
      " [ 0.02273414  0.03261563]\n",
      " [-0.07371372 -0.53074518]\n",
      " [-0.65240085 -1.5388645 ]\n",
      " [ 0.02273414  0.29947074]\n",
      " [ 0.3120777   0.06226619]\n",
      " [-0.45950514 -1.15340711]\n",
      " [-0.7488487  -1.56851507]\n",
      " [-0.26660943 -0.67899802]\n",
      " [-1.13464012  0.47737415]\n",
      " [-0.07371372  2.19710712]\n",
      " [ 0.02273414  0.03261563]\n",
      " [-1.13464012 -1.59816564]\n",
      " [ 1.08366054  0.53667529]\n",
      " [-0.26660943 -1.27200939]\n",
      " [ 1.37300411 -0.94585313]\n",
      " [-1.42398369 -1.24235882]\n",
      " [-0.94174441 -0.9755037 ]\n",
      " [ 1.95169124 -0.67899802]\n",
      " [ 0.89076483 -0.59004631]\n",
      " [-1.13464012  0.29947074]]\n"
     ]
    }
   ],
   "metadata": {}
  },
  {
   "cell_type": "code",
   "execution_count": 51,
   "source": [
    "X_train_scaled=pd.DataFrame(X_train_scaled,columns=X_train.columns)\r\n",
    "X_test_scaled=pd.DataFrame(X_test_scaled,columns=X_test.columns)\r\n"
   ],
   "outputs": [],
   "metadata": {}
  },
  {
   "cell_type": "code",
   "execution_count": 52,
   "source": [
    "X_train_scaled"
   ],
   "outputs": [
    {
     "output_type": "execute_result",
     "data": {
      "text/html": [
       "<div>\n",
       "<style scoped>\n",
       "    .dataframe tbody tr th:only-of-type {\n",
       "        vertical-align: middle;\n",
       "    }\n",
       "\n",
       "    .dataframe tbody tr th {\n",
       "        vertical-align: top;\n",
       "    }\n",
       "\n",
       "    .dataframe thead th {\n",
       "        text-align: right;\n",
       "    }\n",
       "</style>\n",
       "<table border=\"1\" class=\"dataframe\">\n",
       "  <thead>\n",
       "    <tr style=\"text-align: right;\">\n",
       "      <th></th>\n",
       "      <th>Age</th>\n",
       "      <th>EstimatedSalary</th>\n",
       "    </tr>\n",
       "  </thead>\n",
       "  <tbody>\n",
       "    <tr>\n",
       "      <th>0</th>\n",
       "      <td>0.022734</td>\n",
       "      <td>-0.263890</td>\n",
       "    </tr>\n",
       "    <tr>\n",
       "      <th>1</th>\n",
       "      <td>0.794317</td>\n",
       "      <td>-1.420262</td>\n",
       "    </tr>\n",
       "    <tr>\n",
       "      <th>2</th>\n",
       "      <td>-0.266609</td>\n",
       "      <td>-0.382492</td>\n",
       "    </tr>\n",
       "    <tr>\n",
       "      <th>3</th>\n",
       "      <td>0.890765</td>\n",
       "      <td>1.277940</td>\n",
       "    </tr>\n",
       "    <tr>\n",
       "      <th>4</th>\n",
       "      <td>0.312078</td>\n",
       "      <td>-0.204589</td>\n",
       "    </tr>\n",
       "    <tr>\n",
       "      <th>...</th>\n",
       "      <td>...</td>\n",
       "      <td>...</td>\n",
       "    </tr>\n",
       "    <tr>\n",
       "      <th>275</th>\n",
       "      <td>0.794317</td>\n",
       "      <td>1.396542</td>\n",
       "    </tr>\n",
       "    <tr>\n",
       "      <th>276</th>\n",
       "      <td>0.987213</td>\n",
       "      <td>-0.856901</td>\n",
       "    </tr>\n",
       "    <tr>\n",
       "      <th>277</th>\n",
       "      <td>-1.713327</td>\n",
       "      <td>-1.390612</td>\n",
       "    </tr>\n",
       "    <tr>\n",
       "      <th>278</th>\n",
       "      <td>-0.845297</td>\n",
       "      <td>0.299471</td>\n",
       "    </tr>\n",
       "    <tr>\n",
       "      <th>279</th>\n",
       "      <td>-0.845297</td>\n",
       "      <td>2.315709</td>\n",
       "    </tr>\n",
       "  </tbody>\n",
       "</table>\n",
       "<p>280 rows × 2 columns</p>\n",
       "</div>"
      ],
      "text/plain": [
       "          Age  EstimatedSalary\n",
       "0    0.022734        -0.263890\n",
       "1    0.794317        -1.420262\n",
       "2   -0.266609        -0.382492\n",
       "3    0.890765         1.277940\n",
       "4    0.312078        -0.204589\n",
       "..        ...              ...\n",
       "275  0.794317         1.396542\n",
       "276  0.987213        -0.856901\n",
       "277 -1.713327        -1.390612\n",
       "278 -0.845297         0.299471\n",
       "279 -0.845297         2.315709\n",
       "\n",
       "[280 rows x 2 columns]"
      ]
     },
     "metadata": {},
     "execution_count": 52
    }
   ],
   "metadata": {}
  },
  {
   "cell_type": "code",
   "execution_count": 53,
   "source": [
    "np.round(X_train_scaled.describe(),1)"
   ],
   "outputs": [
    {
     "output_type": "execute_result",
     "data": {
      "text/html": [
       "<div>\n",
       "<style scoped>\n",
       "    .dataframe tbody tr th:only-of-type {\n",
       "        vertical-align: middle;\n",
       "    }\n",
       "\n",
       "    .dataframe tbody tr th {\n",
       "        vertical-align: top;\n",
       "    }\n",
       "\n",
       "    .dataframe thead th {\n",
       "        text-align: right;\n",
       "    }\n",
       "</style>\n",
       "<table border=\"1\" class=\"dataframe\">\n",
       "  <thead>\n",
       "    <tr style=\"text-align: right;\">\n",
       "      <th></th>\n",
       "      <th>Age</th>\n",
       "      <th>EstimatedSalary</th>\n",
       "    </tr>\n",
       "  </thead>\n",
       "  <tbody>\n",
       "    <tr>\n",
       "      <th>count</th>\n",
       "      <td>280.0</td>\n",
       "      <td>280.0</td>\n",
       "    </tr>\n",
       "    <tr>\n",
       "      <th>mean</th>\n",
       "      <td>0.0</td>\n",
       "      <td>0.0</td>\n",
       "    </tr>\n",
       "    <tr>\n",
       "      <th>std</th>\n",
       "      <td>1.0</td>\n",
       "      <td>1.0</td>\n",
       "    </tr>\n",
       "    <tr>\n",
       "      <th>min</th>\n",
       "      <td>-1.9</td>\n",
       "      <td>-1.6</td>\n",
       "    </tr>\n",
       "    <tr>\n",
       "      <th>25%</th>\n",
       "      <td>-0.7</td>\n",
       "      <td>-0.8</td>\n",
       "    </tr>\n",
       "    <tr>\n",
       "      <th>50%</th>\n",
       "      <td>-0.1</td>\n",
       "      <td>0.0</td>\n",
       "    </tr>\n",
       "    <tr>\n",
       "      <th>75%</th>\n",
       "      <td>0.8</td>\n",
       "      <td>0.5</td>\n",
       "    </tr>\n",
       "    <tr>\n",
       "      <th>max</th>\n",
       "      <td>2.1</td>\n",
       "      <td>2.4</td>\n",
       "    </tr>\n",
       "  </tbody>\n",
       "</table>\n",
       "</div>"
      ],
      "text/plain": [
       "         Age  EstimatedSalary\n",
       "count  280.0            280.0\n",
       "mean     0.0              0.0\n",
       "std      1.0              1.0\n",
       "min     -1.9             -1.6\n",
       "25%     -0.7             -0.8\n",
       "50%     -0.1              0.0\n",
       "75%      0.8              0.5\n",
       "max      2.1              2.4"
      ]
     },
     "metadata": {},
     "execution_count": 53
    }
   ],
   "metadata": {}
  },
  {
   "cell_type": "code",
   "execution_count": 54,
   "source": [
    "np.round(X_train.describe(),1)\r\n"
   ],
   "outputs": [
    {
     "output_type": "execute_result",
     "data": {
      "text/html": [
       "<div>\n",
       "<style scoped>\n",
       "    .dataframe tbody tr th:only-of-type {\n",
       "        vertical-align: middle;\n",
       "    }\n",
       "\n",
       "    .dataframe tbody tr th {\n",
       "        vertical-align: top;\n",
       "    }\n",
       "\n",
       "    .dataframe thead th {\n",
       "        text-align: right;\n",
       "    }\n",
       "</style>\n",
       "<table border=\"1\" class=\"dataframe\">\n",
       "  <thead>\n",
       "    <tr style=\"text-align: right;\">\n",
       "      <th></th>\n",
       "      <th>Age</th>\n",
       "      <th>EstimatedSalary</th>\n",
       "    </tr>\n",
       "  </thead>\n",
       "  <tbody>\n",
       "    <tr>\n",
       "      <th>count</th>\n",
       "      <td>280.0</td>\n",
       "      <td>280.0</td>\n",
       "    </tr>\n",
       "    <tr>\n",
       "      <th>mean</th>\n",
       "      <td>37.8</td>\n",
       "      <td>69900.0</td>\n",
       "    </tr>\n",
       "    <tr>\n",
       "      <th>std</th>\n",
       "      <td>10.4</td>\n",
       "      <td>33786.6</td>\n",
       "    </tr>\n",
       "    <tr>\n",
       "      <th>min</th>\n",
       "      <td>18.0</td>\n",
       "      <td>15000.0</td>\n",
       "    </tr>\n",
       "    <tr>\n",
       "      <th>25%</th>\n",
       "      <td>30.0</td>\n",
       "      <td>43750.0</td>\n",
       "    </tr>\n",
       "    <tr>\n",
       "      <th>50%</th>\n",
       "      <td>37.0</td>\n",
       "      <td>70500.0</td>\n",
       "    </tr>\n",
       "    <tr>\n",
       "      <th>75%</th>\n",
       "      <td>46.0</td>\n",
       "      <td>87000.0</td>\n",
       "    </tr>\n",
       "    <tr>\n",
       "      <th>max</th>\n",
       "      <td>60.0</td>\n",
       "      <td>150000.0</td>\n",
       "    </tr>\n",
       "  </tbody>\n",
       "</table>\n",
       "</div>"
      ],
      "text/plain": [
       "         Age  EstimatedSalary\n",
       "count  280.0            280.0\n",
       "mean    37.8          69900.0\n",
       "std     10.4          33786.6\n",
       "min     18.0          15000.0\n",
       "25%     30.0          43750.0\n",
       "50%     37.0          70500.0\n",
       "75%     46.0          87000.0\n",
       "max     60.0         150000.0"
      ]
     },
     "metadata": {},
     "execution_count": 54
    }
   ],
   "metadata": {}
  },
  {
   "cell_type": "code",
   "execution_count": 55,
   "source": [
    "scaler.mean_"
   ],
   "outputs": [
    {
     "output_type": "execute_result",
     "data": {
      "text/plain": [
       "array([3.77642857e+01, 6.99000000e+04])"
      ]
     },
     "metadata": {},
     "execution_count": 55
    }
   ],
   "metadata": {}
  },
  {
   "cell_type": "markdown",
   "source": [
    "Visulization\r\n"
   ],
   "metadata": {}
  },
  {
   "cell_type": "code",
   "execution_count": 56,
   "source": [
    "fig,(ax1,ax2)=plt.subplots(ncols=2,figsize=(12,5))\r\n",
    "\r\n",
    "ax1.scatter(X_train[\"Age\"],X_train[\"EstimatedSalary\"])\r\n",
    "ax1.set_title(\"Before scaling\")\r\n",
    "ax2.scatter(X_train_scaled[\"Age\"], X_train_scaled[\"EstimatedSalary\"],color=\"Red\")\r\n",
    "ax2.set_title(\"After scaling\")\r\n",
    "plt.show()"
   ],
   "outputs": [
    {
     "output_type": "display_data",
     "data": {
      "image/png": "[encoded data removed]",
      "text/plain": [
       "<Figure size 864x360 with 2 Axes>"
      ]
     },
     "metadata": {
      "needs_background": "light"
     }
    }
   ],
   "metadata": {}
  },
  {
   "cell_type": "code",
   "execution_count": 57,
   "source": [
    "fig,(ax1,ax2)=plt.subplots(ncols=2, figsize=(12,5))\r\n",
    "\r\n",
    "ax1.set_title(\"Before scaling\")\r\n",
    "sns.kdeplot(X_train[\"Age\"],ax=ax1,label=\"Age\")\r\n",
    "sns.kdeplot(X_train[\"EstimatedSalary\"],ax=ax1, label=\"ES\")\r\n",
    "plt.legend()\r\n",
    "\r\n",
    "ax2.set_title(\"Before scaling\")\r\n",
    "sns.kdeplot(X_train_scaled[\"Age\"],ax=ax2,label=\"Age\")\r\n",
    "sns.kdeplot(X_train_scaled[\"EstimatedSalary\"],ax=ax2,label=\"ES\")\r\n",
    "plt.legend()\r\n",
    "plt.show()"
   ],
   "outputs": [
    {
     "output_type": "stream",
     "name": "stderr",
     "text": [
      "No handles with labels found to put in legend.\n"
     ]
    },
    {
     "output_type": "display_data",
     "data": {
      "image/png": "[encoded data removed]",
      "text/plain": [
       "<Figure size 864x360 with 2 Axes>"
      ]
     },
     "metadata": {
      "needs_background": "light"
     }
    }
   ],
   "metadata": {}
  },
  {
   "cell_type": "code",
   "execution_count": 58,
   "source": [
    "fig, (ax1, ax2) = plt.subplots(ncols=2, figsize=(12, 5))\r\n",
    "\r\n",
    "# before scaling\r\n",
    "ax1.set_title('Age Distribution Before Scaling')\r\n",
    "sns.kdeplot(X_train['Age'], ax=ax1)\r\n",
    "\r\n",
    "# after scaling\r\n",
    "ax2.set_title('Age Distribution After Standard Scaling')\r\n",
    "sns.kdeplot(X_train_scaled['Age'], ax=ax2)\r\n",
    "plt.show()"
   ],
   "outputs": [
    {
     "output_type": "display_data",
     "data": {
      "image/png": "[encoded data removed]",
      "text/plain": [
       "<Figure size 864x360 with 2 Axes>"
      ]
     },
     "metadata": {
      "needs_background": "light"
     }
    }
   ],
   "metadata": {}
  },
  {
   "cell_type": "code",
   "execution_count": 59,
   "source": [
    "fig, (ax1, ax2) = plt.subplots(ncols=2, figsize=(12, 5))\r\n",
    "\r\n",
    "# before scaling\r\n",
    "ax1.set_title('Salary Distribution Before Scaling')\r\n",
    "sns.kdeplot(X_train['EstimatedSalary'], ax=ax1)\r\n",
    "\r\n",
    "# after scaling\r\n",
    "ax2.set_title('Salary Distribution Standard Scaling')\r\n",
    "sns.kdeplot(X_train_scaled['EstimatedSalary'], ax=ax2)\r\n",
    "plt.show()"
   ],
   "outputs": [
    {
     "output_type": "display_data",
     "data": {
      "image/png": "[encoded data removed]",
      "text/plain": [
       "<Figure size 864x360 with 2 Axes>"
      ]
     },
     "metadata": {
      "needs_background": "light"
     }
    }
   ],
   "metadata": {}
  },
  {
   "cell_type": "markdown",
   "source": [
    "Why scaling is important???"
   ],
   "metadata": {}
  },
  {
   "cell_type": "markdown",
   "source": [
    "effect of scaling on LinearRegression model"
   ],
   "metadata": {}
  },
  {
   "cell_type": "code",
   "execution_count": 60,
   "source": [
    "from sklearn.linear_model import LogisticRegression\r\n",
    "lo=LogisticRegression()\r\n",
    "lo_scaled=LogisticRegression()"
   ],
   "outputs": [],
   "metadata": {}
  },
  {
   "cell_type": "code",
   "execution_count": 61,
   "source": [
    "lo.fit(X_train, y_train)\r\n",
    "lo_scaled.fit(X_train_scaled, y_train)"
   ],
   "outputs": [
    {
     "output_type": "execute_result",
     "data": {
      "text/plain": [
       "LogisticRegression()"
      ]
     },
     "metadata": {},
     "execution_count": 61
    }
   ],
   "metadata": {}
  },
  {
   "cell_type": "code",
   "execution_count": 65,
   "source": [
    "y_pred=lo.predict(X_test)\r\n",
    "y_pred_scaled=lo_scaled.predict(X_test_scaled)"
   ],
   "outputs": [],
   "metadata": {}
  },
  {
   "cell_type": "code",
   "execution_count": 66,
   "source": [
    "from sklearn.metrics import accuracy_score\r\n"
   ],
   "outputs": [],
   "metadata": {}
  },
  {
   "cell_type": "code",
   "execution_count": 67,
   "source": [
    "print(\"Actual\", accuracy_score(y_test, y_pred))\r\n",
    "print(\"scaled\", accuracy_score(y_test, y_pred_scaled))\r\n"
   ],
   "outputs": [
    {
     "output_type": "stream",
     "name": "stdout",
     "text": [
      "Actual 0.6416666666666667\n",
      "scaled 0.8416666666666667\n"
     ]
    }
   ],
   "metadata": {}
  },
  {
   "cell_type": "markdown",
   "source": [
    "Effect of scaling on Decision tress"
   ],
   "metadata": {}
  },
  {
   "cell_type": "code",
   "execution_count": 69,
   "source": [
    "from sklearn.tree import DecisionTreeClassifier"
   ],
   "outputs": [],
   "metadata": {}
  },
  {
   "cell_type": "code",
   "execution_count": 70,
   "source": [
    "dt=DecisionTreeClassifier()\r\n",
    "dt_scaled=DecisionTreeClassifier()"
   ],
   "outputs": [],
   "metadata": {}
  },
  {
   "cell_type": "code",
   "execution_count": 71,
   "source": [
    "dt.fit(X_train,y_train)\r\n",
    "dt_scaled.fit(X_train_scaled, y_train)"
   ],
   "outputs": [
    {
     "output_type": "execute_result",
     "data": {
      "text/plain": [
       "DecisionTreeClassifier()"
      ]
     },
     "metadata": {},
     "execution_count": 71
    }
   ],
   "metadata": {}
  },
  {
   "cell_type": "code",
   "execution_count": 72,
   "source": [
    "y_predd=dt.predict(X_test)\r\n",
    "y_predd2=dt_scaled.predict(X_test_scaled)"
   ],
   "outputs": [],
   "metadata": {}
  },
  {
   "cell_type": "code",
   "execution_count": 73,
   "source": [
    "print(\"Actual\", accuracy_score(y_test, y_predd))\r\n",
    "print(\"scaled\", accuracy_score(y_test, y_predd2))"
   ],
   "outputs": [
    {
     "output_type": "stream",
     "name": "stdout",
     "text": [
      "Actual 0.8833333333333333\n",
      "scaled 0.8833333333333333\n"
     ]
    }
   ],
   "metadata": {}
  },
  {
   "cell_type": "markdown",
   "source": [
    "Effect of outliers?\r\n",
    "there is no effect of outliers"
   ],
   "metadata": {}
  },
  {
   "cell_type": "code",
   "execution_count": 74,
   "source": [
    "df = df.append(pd.DataFrame({'Age':[5,90,95],'EstimatedSalary':[1000,250000,350000],'Purchased':[0,1,1]}),ignore_index=True)"
   ],
   "outputs": [],
   "metadata": {}
  },
  {
   "cell_type": "code",
   "execution_count": 75,
   "source": [
    "plt.scatter(df[\"Age\"],df[\"EstimatedSalary\"])"
   ],
   "outputs": [
    {
     "output_type": "execute_result",
     "data": {
      "text/plain": [
       "<matplotlib.collections.PathCollection at 0xc073431250>"
      ]
     },
     "metadata": {},
     "execution_count": 75
    },
    {
     "output_type": "display_data",
     "data": {
      "image/png": "[encoded data removed]",
      "text/plain": [
       "<Figure size 432x288 with 1 Axes>"
      ]
     },
     "metadata": {
      "needs_background": "light"
     }
    }
   ],
   "metadata": {}
  },
  {
   "cell_type": "code",
   "execution_count": 76,
   "source": [
    "from sklearn.model_selection import train_test_split\r\n",
    "X_train, X_test, y_train, y_test = train_test_split(df.drop('Purchased', axis=1),\r\n",
    "                                                    df['Purchased'],\r\n",
    "                                                    test_size=0.3,\r\n",
    "                                                    random_state=0)\r\n",
    "\r\n",
    "X_train.shape, X_test.shape"
   ],
   "outputs": [
    {
     "output_type": "execute_result",
     "data": {
      "text/plain": [
       "((282, 2), (121, 2))"
      ]
     },
     "metadata": {},
     "execution_count": 76
    }
   ],
   "metadata": {}
  },
  {
   "cell_type": "code",
   "execution_count": 77,
   "source": [
    "from sklearn.preprocessing import StandardScaler\r\n",
    "\r\n",
    "scaler = StandardScaler()\r\n",
    "\r\n",
    "# fit the scaler to the train set, it will learn the parameters\r\n",
    "scaler.fit(X_train)\r\n",
    "\r\n",
    "# transform train and test sets\r\n",
    "X_train_scaled = scaler.transform(X_train)\r\n",
    "X_test_scaled = scaler.transform(X_test)"
   ],
   "outputs": [],
   "metadata": {}
  },
  {
   "cell_type": "code",
   "execution_count": 78,
   "source": [
    "X_train_scaled = pd.DataFrame(X_train_scaled, columns=X_train.columns)\r\n",
    "X_test_scaled = pd.DataFrame(X_test_scaled, columns=X_test.columns)"
   ],
   "outputs": [],
   "metadata": {}
  },
  {
   "cell_type": "code",
   "execution_count": 79,
   "source": [
    "fig, (ax1, ax2) = plt.subplots(ncols=2, figsize=(12, 5))\r\n",
    "\r\n",
    "ax1.scatter(X_train['Age'], X_train['EstimatedSalary'])\r\n",
    "ax1.set_title(\"Before Scaling\")\r\n",
    "ax2.scatter(X_train_scaled['Age'], X_train_scaled['EstimatedSalary'],color='red')\r\n",
    "ax2.set_title(\"After Scaling\")\r\n",
    "plt.show()"
   ],
   "outputs": [
    {
     "output_type": "display_data",
     "data": {
      "image/png": "[encoded data removed]",
      "text/plain": [
       "<Figure size 864x360 with 2 Axes>"
      ]
     },
     "metadata": {
      "needs_background": "light"
     }
    }
   ],
   "metadata": {}
  }
 ],
 "metadata": {
  "orig_nbformat": 4,
  "language_info": {
   "name": "python",
   "version": "3.9.3",
   "mimetype": "text/x-python",
   "codemirror_mode": {
    "name": "ipython",
    "version": 3
   },
   "pygments_lexer": "ipython3",
   "nbconvert_exporter": "python",
   "file_extension": ".py"
  },
  "kernelspec": {
   "name": "python3",
   "display_name": "Python 3.9.3 64-bit"
  },
  "interpreter": {
   "hash": "f7a33a981814a94568dd9435e38a0e5b05dfcd5ce7813784d12d25c41f1d81ff"
  }
 },
 "nbformat": 4,
 "nbformat_minor": 2
}